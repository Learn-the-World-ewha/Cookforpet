{
 "cells": [
  {
   "cell_type": "code",
   "execution_count": null,
   "metadata": {},
   "outputs": [],
   "source": [
    "import numpy as np\n",
    "import matplotlib.pyplot as plt"
   ]
  },
  {
   "cell_type": "code",
   "execution_count": null,
   "metadata": {},
   "outputs": [],
   "source": [
    "data = np.array([[1, 0, 1, 1, 0, 0, 0, 0, 0, 0], #1번 유저의 1~10번 레시피 선호도\n",
    "                [0, 1, 0, 0, 1, np.nan, 0, 0, 0, 1], #2번 유저\n",
    "                [1, np.nan, 1, 1, 1, 0, 1, 0, 0, 0],\n",
    "                [0, 1, 0, 0, 1, 1, 0, 1, 0, 1],\n",
    "                [1, 1, 0, np.nan, 0, 0, 0, 0, 1, 0],\n",
    "                [1, 0, 1, 0, 1, np.nan, 1, 1, 0, 0],\n",
    "                [0, 0, 0, 1, 1, 0, 1, 0, 1, 1],\n",
    "                [np.nan, 1, 0, 0, np.nan, 1, 0, 1, 0, 0],\n",
    "                [0, np.nan, 0, 1, 0, 0, 0, 1, 0, 0],\n",
    "                [1, 0, 0, 0, 1, 1, 0, 1, np.nan, 1], #10번 유저\n",
    "                [1, 1, 1, 0, 0, 1, 1, 1, 1, 1],\n",
    "                [0, np.nan, np.nan, np.nan, 1, np.nan, 1, 1, np.nan, np.nan],\n",
    "                [0, 0, 0, 0, 1, 0, 1, np.nan, 0, 1],\n",
    "                [1, np.nan, 0, 0, np.nan, 1, 1, 0, 1, 1]]) "
   ]
  },
  {
   "cell_type": "code",
   "execution_count": null,
   "metadata": {},
   "outputs": [],
   "source": [
    "np.set_printoptions(precision=2)\n",
    "np.set_printoptions(suppress=True)\n",
    "\n",
    "def predict(Theta, X): #행렬곱으로 예측값 계산하는 함수\n",
    "    return Theta @ X\n",
    "\n",
    "def cost(prediction, R): #손실함수(비용함수) 평균제곱오차(MSE) 계산\n",
    "    return np.nansum((prediction - R)**2)\n",
    "\n",
    "def initialize(R, num_features): #랜덤값을 채워 임의의 theta, x를 만들어주는 함수\n",
    "    num_users, num_items = R.shape    \n",
    "    Theta = np.random.rand(num_users, num_features)\n",
    "    X = np.random.rand(num_features, num_items)   \n",
    "    return Theta, X\n",
    "\n",
    "#평점 데이터 행렬 R, 유저 행렬 Theta, 레시피 행렬 X, 경사 하강 횟수 iteration, 학습률 alpha, 그리고 정규화 상수 lambda_\n",
    "def gradient_descent(R, Theta, X, iteration, alpha, lambda_):\n",
    "    num_user, num_items = R.shape\n",
    "    num_features = len(X) \n",
    "    costs = []  #손실계산값을 담을 리스트\n",
    "    for _ in range(iteration):\n",
    "        prediction = predict(Theta, X) #예측값 계산\n",
    "        error = prediction - R #오차 계산\n",
    "        costs.append(cost(prediction, R)) #손실을 costs 리스트에 추가\n",
    "\n",
    "        for i in range(num_user):\n",
    "            for j in range(num_items):\n",
    "                if not np.isnan(R[i][j]): #실제 데이터 평점이 없는값은 건너뛰기\n",
    "                    for k in range(num_features):\n",
    "                        Theta[i][k] -= alpha * (np.nansum(error[i, :]*X[k, :]) + lambda_*Theta[i][k])\n",
    "                        X[k][j] -= alpha * (np.nansum(error[:, j]*Theta[:, k]) + lambda_*X[k][j])\n",
    "                        \n",
    "    return Theta, X, costs\n",
    "\n",
    "\n",
    "R = data        \n",
    "Theta, X = initialize(R, 5)  #행렬들 초기화\n",
    "Theta, X, costs = gradient_descent(R, Theta, X, 300, 0.001, 0.01)  #경사 하강\n",
    "    \n",
    "plt.plot(costs)\n",
    "\n",
    "Theta, X"
   ]
  },
  {
   "cell_type": "code",
   "execution_count": null,
   "metadata": {},
   "outputs": [],
   "source": [
    "result = Theta @ X\n",
    "print('기존 data:\\n', data)\n",
    "print('머신러닝으로 추측:\\n', result)"
   ]
  },
  {
   "cell_type": "code",
   "execution_count": null,
   "metadata": {},
   "outputs": [],
   "source": [
    "num_user, num_items = R.shape\n",
    "for i in range(num_user):\n",
    "    for j in range(num_items):\n",
    "        if np.isnan(R[i][j]):\n",
    "            R[i][j] = (Theta[i,:] @ X[:,j])\n",
    "            if R[i][j] > 0.5:\n",
    "                print(\"%d 번 유저에게 추천하는 레시피: %d\"%(i+1,j))"
   ]
  }
 ],
 "metadata": {
  "language_info": {
   "name": "python"
  },
  "orig_nbformat": 4
 },
 "nbformat": 4,
 "nbformat_minor": 2
}
