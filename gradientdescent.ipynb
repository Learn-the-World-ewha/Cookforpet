{
 "cells": [
  {
   "cell_type": "code",
   "execution_count": 1,
   "metadata": {},
   "outputs": [],
   "source": [
    "import numpy as np\n",
    "import matplotlib.pyplot as plt"
   ]
  },
  {
   "cell_type": "code",
   "execution_count": 2,
   "metadata": {},
   "outputs": [],
   "source": [
    "data = np.array([[1, 0, 1, 1, 0, 0, 0, 0, 0, 0], #1번 유저의 1~10번 레시피 선호도\n",
    "                [0, 1, 0, 0, 1, np.nan, 0, 0, 0, 1], #2번 유저\n",
    "                [1, np.nan, 1, 1, 1, 0, 1, 0, 0, 0],\n",
    "                [0, 1, 0, 0, 1, 1, 0, 1, 0, 1],\n",
    "                [1, 1, 0, np.nan, 0, 0, 0, 0, 1, 0],\n",
    "                [1, 0, 1, 0, 1, np.nan, 1, 1, 0, 0],\n",
    "                [0, 0, 0, 1, 1, 0, 1, 0, 1, 1],\n",
    "                [np.nan, 1, 0, 0, np.nan, 1, 0, 1, 0, 0],\n",
    "                [0, np.nan, 0, 1, 0, 0, 0, 1, 0, 0],\n",
    "                [1, 0, 0, 0, 1, 1, 0, 1, np.nan, 1], #10번 유저\n",
    "                [1, 1, 1, 0, 0, 1, 1, 1, 1, 1],\n",
    "                [0, np.nan, np.nan, np.nan, 1, np.nan, 1, 1, np.nan, np.nan],\n",
    "                [0, 0, 0, 0, 1, 0, 1, np.nan, 0, 1],\n",
    "                [1, np.nan, 0, 0, np.nan, 1, 1, 0, 1, 1]]) "
   ]
  },
  {
   "cell_type": "code",
   "execution_count": 3,
   "metadata": {},
   "outputs": [
    {
     "data": {
      "text/plain": [
       "(array([[ 0.27,  0.45,  0.16, -0.27,  0.86],\n",
       "        [ 0.91,  0.48,  0.16,  0.45, -0.07],\n",
       "        [ 0.1 ,  1.05,  0.04,  0.17,  0.92],\n",
       "        [ 0.78,  0.32,  0.63,  0.48, -0.16],\n",
       "        [ 1.01,  0.01, -0.1 ,  0.04,  1.03],\n",
       "        [-0.3 ,  0.49,  0.8 ,  0.44,  0.48],\n",
       "        [ 0.99,  0.91, -0.42,  0.72,  0.58],\n",
       "        [ 0.41, -0.14,  0.81,  0.03,  0.22],\n",
       "        [ 0.53,  0.17,  0.22, -0.18,  0.32],\n",
       "        [ 0.71,  1.  ,  0.92, -0.04, -0.06],\n",
       "        [ 0.2 , -0.29,  0.57,  1.05,  0.75],\n",
       "        [ 0.53,  0.65,  0.54,  0.85, -0.18],\n",
       "        [ 0.34,  0.73, -0.14,  0.7 ,  0.  ],\n",
       "        [ 0.75,  0.15,  0.19,  1.03,  0.56]]),\n",
       " array([[-0.05,  0.87, -0.63,  0.39,  0.07,  0.17, -0.49,  0.15,  0.32,\n",
       "          0.52],\n",
       "        [ 0.06, -0.81,  0.29,  0.23,  0.94, -0.1 ,  0.5 , -0.05, -0.54,\n",
       "          0.27],\n",
       "        [ 0.75,  0.48,  0.37, -0.33,  0.22,  1.06, -0.04,  1.18, -0.39,\n",
       "          0.15],\n",
       "        [-0.08,  0.37,  0.18, -0.5 ,  0.48,  0.49,  1.02,  0.11,  0.56,\n",
       "          0.83],\n",
       "        [ 1.  ,  0.09,  0.78,  0.89, -0.2 , -0.06,  0.4 ,  0.01,  0.57,\n",
       "         -0.41]]))"
      ]
     },
     "execution_count": 3,
     "metadata": {},
     "output_type": "execute_result"
    },
    {
     "data": {
      "image/png": "[encoded data removed]",
      "text/plain": [
       "<Figure size 432x288 with 1 Axes>"
      ]
     },
     "metadata": {
      "needs_background": "light"
     },
     "output_type": "display_data"
    }
   ],
   "source": [
    "np.set_printoptions(precision=2)\n",
    "np.set_printoptions(suppress=True)\n",
    "\n",
    "def predict(Theta, X): #행렬곱으로 예측값 계산하는 함수\n",
    "    return Theta @ X\n",
    "\n",
    "def cost(prediction, R): #손실함수(비용함수) 평균제곱오차(MSE) 계산\n",
    "    return np.nansum((prediction - R)**2)\n",
    "\n",
    "def initialize(R, num_features): #랜덤값을 채워 임의의 theta, x를 만들어주는 함수\n",
    "    num_users, num_items = R.shape    \n",
    "    Theta = np.random.rand(num_users, num_features)\n",
    "    X = np.random.rand(num_features, num_items)   \n",
    "    return Theta, X\n",
    "\n",
    "#평점 데이터 행렬 R, 유저 행렬 Theta, 레시피 행렬 X, 경사 하강 횟수 iteration, 학습률 alpha, 그리고 정규화 상수 lambda_\n",
    "def gradient_descent(R, Theta, X, iteration, alpha, lambda_):\n",
    "    num_user, num_items = R.shape\n",
    "    num_features = len(X) \n",
    "    costs = []  #손실계산값을 담을 리스트\n",
    "    for _ in range(iteration):\n",
    "        prediction = predict(Theta, X) #예측값 계산\n",
    "        error = prediction - R #오차 계산\n",
    "        costs.append(cost(prediction, R)) #손실을 costs 리스트에 추가\n",
    "\n",
    "        for i in range(num_user):\n",
    "            for j in range(num_items):\n",
    "                if not np.isnan(R[i][j]): #실제 데이터 평점이 없는값은 건너뛰기\n",
    "                    for k in range(num_features):\n",
    "                        Theta[i][k] -= alpha * (np.nansum(error[i, :]*X[k, :]) + lambda_*Theta[i][k])\n",
    "                        X[k][j] -= alpha * (np.nansum(error[:, j]*Theta[:, k]) + lambda_*X[k][j])\n",
    "                        \n",
    "    return Theta, X, costs\n",
    "\n",
    "\n",
    "R = data        \n",
    "Theta, X = initialize(R, 5)  #행렬들 초기화\n",
    "Theta, X, costs = gradient_descent(R, Theta, X, 300, 0.001, 0.01)  #경사 하강\n",
    "    \n",
    "plt.plot(costs)\n",
    "\n",
    "Theta, X"
   ]
  },
  {
   "cell_type": "code",
   "execution_count": 4,
   "metadata": {},
   "outputs": [
    {
     "name": "stdout",
     "output_type": "stream",
     "text": [
      "기존 data:\n",
      " [[ 1.  0.  1.  1.  0.  0.  0.  0.  0.  0.]\n",
      " [ 0.  1.  0.  0.  1. nan  0.  0.  0.  1.]\n",
      " [ 1. nan  1.  1.  1.  0.  1.  0.  0.  0.]\n",
      " [ 0.  1.  0.  0.  1.  1.  0.  1.  0.  1.]\n",
      " [ 1.  1.  0. nan  0.  0.  0.  0.  1.  0.]\n",
      " [ 1.  0.  1.  0.  1. nan  1.  1.  0.  0.]\n",
      " [ 0.  0.  0.  1.  1.  0.  1.  0.  1.  1.]\n",
      " [nan  1.  0.  0. nan  1.  0.  1.  0.  0.]\n",
      " [ 0. nan  0.  1.  0.  0.  0.  1.  0.  0.]\n",
      " [ 1.  0.  0.  0.  1.  1.  0.  1. nan  1.]\n",
      " [ 1.  1.  1.  0.  0.  1.  1.  1.  1.  1.]\n",
      " [ 0. nan nan nan  1. nan  1.  1. nan nan]\n",
      " [ 0.  0.  0.  0.  1.  0.  1. nan  0.  1.]\n",
      " [ 1. nan  0.  0. nan  1.  1.  0.  1.  1.]]\n",
      "머신러닝으로 추측:\n",
      " [[ 1.01 -0.08  0.65  1.06  0.17 -0.01  0.16  0.19  0.13 -0.29]\n",
      " [ 0.    0.64 -0.34  0.12  0.78  0.5   0.21  0.36  0.18  1.03]\n",
      " [ 0.99 -0.59  1.01  1.    0.89 -0.01  1.01  0.04  0.08  0.1 ]\n",
      " [ 0.25  0.89 -0.21 -0.22  0.76  1.01  0.16  0.9   0.01  1.05]\n",
      " [ 0.89  0.94  0.14  1.32 -0.14  0.03 -0.04  0.05  0.97  0.12]\n",
      " [ 1.09 -0.06  1.08 -0.06  0.73  0.94  1.    0.93 -0.15  0.26]\n",
      " [ 0.21  0.24  0.07  0.88  1.06 -0.05  0.95 -0.31  0.73  1.05]\n",
      " [ 0.8   0.89  0.19  0.04  0.05  0.95 -0.18  1.04  0.04  0.23]\n",
      " [ 0.49  0.39  0.02  0.55  0.09  0.2  -0.24  0.32  0.07  0.07]\n",
      " [ 0.66  0.23  0.13  0.17  1.18  0.98  0.04  1.14 -0.72  0.76]\n",
      " [ 1.07  1.14  0.77 -0.04  0.22  1.13  1.1   0.83  1.02  0.67]\n",
      " [ 0.18  0.5   0.07 -0.41  1.21  1.02  0.83  0.78 -0.02  1.3 ]\n",
      " [-0.13 -0.1   0.08 -0.    1.02  0.17  0.92 -0.08  0.17  0.93]\n",
      " [ 0.6   1.06  0.26  0.25  0.62  0.79  0.97  0.45  0.98  1.08]]\n"
     ]
    }
   ],
   "source": [
    "result = Theta @ X\n",
    "print('기존 data:\\n', data)\n",
    "print('머신러닝으로 추측:\\n', result)"
   ]
  },
  {
   "cell_type": "code",
   "execution_count": 5,
   "metadata": {},
   "outputs": [
    {
     "name": "stdout",
     "output_type": "stream",
     "text": [
      "2 번 유저에게 추천하는 레시피: 5\n",
      "5 번 유저에게 추천하는 레시피: 3\n",
      "6 번 유저에게 추천하는 레시피: 5\n",
      "8 번 유저에게 추천하는 레시피: 0\n",
      "12 번 유저에게 추천하는 레시피: 5\n",
      "12 번 유저에게 추천하는 레시피: 9\n",
      "14 번 유저에게 추천하는 레시피: 1\n",
      "14 번 유저에게 추천하는 레시피: 4\n"
     ]
    }
   ],
   "source": [
    "num_user, num_items = data.shape\n",
    "for i in range(num_user):\n",
    "    for j in range(num_items):\n",
    "        if np.isnan(data[i][j]):\n",
    "            if result[i][j] > 0.5:\n",
    "                print(\"%d 번 유저에게 추천하는 레시피: %d\"%(i+1,j))"
   ]
  }
 ],
 "metadata": {
  "interpreter": {
   "hash": "a330711b63d012e3b5358140bfe2cfe4b95070673b2623323277a27b73e75bc1"
  },
  "kernelspec": {
   "display_name": "Python 3.9.7 64-bit",
   "language": "python",
   "name": "python3"
  },
  "language_info": {
   "codemirror_mode": {
    "name": "ipython",
    "version": 3
   },
   "file_extension": ".py",
   "mimetype": "text/x-python",
   "name": "python",
   "nbconvert_exporter": "python",
   "pygments_lexer": "ipython3",
   "version": "3.9.7"
  },
  "orig_nbformat": 4
 },
 "nbformat": 4,
 "nbformat_minor": 2
}
